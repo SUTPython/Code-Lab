{
  "cells": [
    {
      "cell_type": "markdown",
      "metadata": {
        "id": "bTlDNh4pGGwg"
      },
      "source": [
        " .برنامه ای بنویسید که فاکتوریل یک عدد را محاسبه کند"
      ]
    },
    {
      "cell_type": "code",
      "execution_count": null,
      "metadata": {},
      "outputs": [],
      "source": [
        "def fact(n) : \n",
        "    if n == 0 : \n",
        "        return 1\n",
        "    return n * fact(n-1)    "
      ]
    },
    {
      "cell_type": "markdown",
      "metadata": {
        "id": "iCRAhOzvGTZ5"
      },
      "source": [
        "  ام دنباله فیبوناچی را محاسبه کند n  برنامه ای بنویسید که جمله ی"
      ]
    },
    {
      "cell_type": "code",
      "execution_count": null,
      "metadata": {},
      "outputs": [],
      "source": [
        "def fib(n) : \n",
        "    if n == 1 :\n",
        "        return 0\n",
        "    if n == 2 :\n",
        "        return 1\n",
        "    return fib(n-1) + fib(n-2)    "
      ]
    },
    {
      "cell_type": "markdown",
      "metadata": {
        "id": "C9KF2NH5p606"
      },
      "source": [
        "\n",
        "یک نردبان داریم که در هر مرحله می‌توان ۱، ۲، یا ۳ پله بالا رفت. می‌خواهیم تعداد راه‌های ممکن برای رسیدن به بالای نردبان را محاسبه کنیم."
      ]
    },
    {
      "cell_type": "code",
      "execution_count": null,
      "metadata": {},
      "outputs": [],
      "source": [
        "def ladder(n) : \n",
        "    if n == 0 : \n",
        "        return 1\n",
        "    if n == 1 : \n",
        "        return 2\n",
        "    if n == 2 : \n",
        "        return 4\n",
        "    return ladder(n-1) + ladder(n-2) + ladder(n-3)"
      ]
    },
    {
      "cell_type": "markdown",
      "metadata": {
        "id": "U1kqgJQnGwPB"
      },
      "source": [
        "برنامه ای بنویسید که تعداد راه های رسیدن به یک نقطه دلخواه در مبدا مختصات  را حساب کند با این شرط که هر حرکت فقط در راستای طول یا عرض میباشد"
      ]
    },
    {
      "cell_type": "code",
      "execution_count": null,
      "metadata": {},
      "outputs": [],
      "source": [
        "def allWays(x,y,X,Y) : \n",
        "    if x == X and y == Y : \n",
        "        return 1\n",
        "    if x > X or y > Y : \n",
        "        return 0\n",
        "    return allWays(x+1,y,X,Y) + allWays(x,y+1,X,Y)"
      ]
    },
    {
      "cell_type": "markdown",
      "metadata": {
        "id": "OHe6l9emJ3bH"
      },
      "source": [
        "برنامه ای را بنویسید که به شکل بازگشتی یک رشته را برعکس کند"
      ]
    },
    {
      "cell_type": "code",
      "execution_count": null,
      "metadata": {},
      "outputs": [],
      "source": [
        "#\"ali\" ----> \"ila\"\n",
        "\n",
        "def reverser(Str) :\n",
        "    if len(Str) == 1 :\n",
        "        return Str \n",
        "    a = Str[0:len(Str) - 1] \n",
        "    b = Str[len(Str) - 1] + reverser(a) \n",
        "    return b "
      ]
    },
    {
      "cell_type": "markdown",
      "metadata": {
        "id": "ee4w7AIPKVHv"
      },
      "source": [
        " تابعی بازگشتی بنویسید که بررسی کند آیا یک رشته یکسان از ابتدا و انتها یکسان خوانده میشود یا خیر"
      ]
    },
    {
      "cell_type": "code",
      "execution_count": null,
      "metadata": {},
      "outputs": [],
      "source": [
        "# a = \"maam\" , \"abccba\"\n",
        "\n",
        "def isPalindrome(a) : \n",
        "    if len(a) == 1 or len(a) == 0 : \n",
        "        return True \n",
        "    if a[0] == a[len(a) - 1] : \n",
        "        return isPalindrome(a[1:len(a) - 1])\n",
        "    else :\n",
        "        return False "
      ]
    },
    {
      "cell_type": "markdown",
      "metadata": {
        "id": "oXjiEHuRb3NY"
      },
      "source": [
        "حذف همه تکرار های اضافی از یک رشته"
      ]
    },
    {
      "cell_type": "code",
      "execution_count": null,
      "metadata": {},
      "outputs": [],
      "source": [
        "# a = \"aaaalllllliiiii\" , \"moooohamad\"\n",
        "\n",
        "def unique(Str)  :\n",
        "    if len(Str) == 1 : \n",
        "        return Str\n",
        "    if Str[0] == Str[1] :  # a =  \"aabbcd\"\n",
        "        return unique(Str[1:])\n",
        "    else :  # a = \"abbsbd\"\n",
        "        return Str[0] + unique(Str[1:])\n",
        "    \n",
        "print(unique('mooohhaaammmaaddd'))  "
      ]
    },
    {
      "cell_type": "markdown",
      "metadata": {
        "id": "CdEkntYHlWjP"
      },
      "source": [
        "بررسی اول بودن یک عدد"
      ]
    },
    {
      "cell_type": "code",
      "execution_count": null,
      "metadata": {},
      "outputs": [],
      "source": [
        "def isPrime(n,t = 2) : \n",
        "    if n % t == 0 : \n",
        "        return false\n",
        "    if t == n - 1 : \n",
        "        return true\n",
        "    return isPrime(n,t+1)        "
      ]
    },
    {
      "cell_type": "markdown",
      "metadata": {},
      "source": [
        "تعداد بیت استرینگ هایی که دو یک متوالی ندارند ."
      ]
    },
    {
      "cell_type": "code",
      "execution_count": null,
      "metadata": {},
      "outputs": [],
      "source": [
        "def bitStr(n , current = \"\") :\n",
        "    if len(current) == n : \n",
        "        return 1\n",
        "    if current == \"\" :\n",
        "        return bitStr(n,current + '1') + bitStr(n,current + '0') \n",
        "    if current[len(current) - 1] == '1' and len(current) < n : \n",
        "        return  bitStr(n,current + '0') \n",
        "    return bitStr(n,current + '1') + bitStr(n,current + '0')\n",
        "\n",
        "print(bitStr(3))"
      ]
    }
  ],
  "metadata": {
    "colab": {
      "name": "Welcome To Colab",
      "provenance": []
    },
    "kernelspec": {
      "display_name": "Python 3",
      "name": "python3"
    },
    "language_info": {
      "name": "python",
      "version": "3.12.4"
    }
  },
  "nbformat": 4,
  "nbformat_minor": 0
}
