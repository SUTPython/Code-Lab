{
 "cells": [
  {
   "cell_type": "raw",
   "id": "96f9755f-44a4-4a25-ad4f-af96c7d8424a",
   "metadata": {},
   "source": [
    "PART 2:JSON"
   ]
  },
  {
   "cell_type": "markdown",
   "id": "db4728c5-0012-409b-b910-da6c2121f21c",
   "metadata": {},
   "source": [
    "Introduction\n",
    "JSON (JavaScript Object Notation) is a lightweight, text-based format for data interchange. Its simplicity and readability make it a popular choice for exchanging data between systems. In the world of Python programming, JSON is widely used due to its ease of use and compatibility with various data structures. In this lesson, you will learn how to work with JSON using Python’s built-in json module—from basic operations to advanced customization techniques.\n",
    "\n",
    "Section 1: Understanding JSON and Its Fundamentals\n",
    "What is JSON?\n",
    "JSON is a text format that represents structured data using key-value pairs (similar to Python dictionaries) and arrays (like Python lists). Its clear and hierarchical structure allows for an easy exchange of data between servers, web applications, and other services.\n",
    "Allowed Data Types in JSON\n",
    "JSON supports a limited set of data types:\n",
    "- Numbers: Can be integers or floats.\n",
    "- Strings: Text enclosed in double quotes.\n",
    "- Booleans: true and false.\n",
    "- Arrays: Ordered lists of values.\n",
    "- Objects: Collections of key-value pairs.\n",
    "- null: Represents an empty value.\n"
   ]
  },
  {
   "cell_type": "markdown",
   "id": "c6a76f7c-3097-472f-ac08-39883c6c8e9d",
   "metadata": {},
   "source": [
    "Section 2: Using the Python json Module\n",
    "Python includes a built-in module called json that enables you to easily convert data between Python objects and JSON strings.\n",
    "1. Converting a Python Dictionary to a JSON String using json.dumps\n",
    "The following example demonstrates how to convert a Python dictionary to a JSON-formatted string:\n"
   ]
  },
  {
   "cell_type": "code",
   "execution_count": 9,
   "id": "b5ca6f29-2cf7-43ea-b4ba-6ef8bcda0642",
   "metadata": {},
   "outputs": [
    {
     "name": "stdout",
     "output_type": "stream",
     "text": [
      "JSON String: {\"name\": \"Nima\", \"age\": 25, \"city\": \"Zanjan\"}\n"
     ]
    }
   ],
   "source": [
    "import json\n",
    "\n",
    "# A sample dictionary\n",
    "data = {\"name\": \"Nima\", \"age\": 25, \"city\": \"Zanjan\"}\n",
    "\n",
    "# Convert the dictionary to a JSON string\n",
    "json_str = json.dumps(data)\n",
    "print(\"JSON String:\", json_str)\n",
    "\n",
    "#In this code, the json.dumps() function converts a Python dictionary into a JSON-formatted string.\n"
   ]
  },
  {
   "cell_type": "code",
   "execution_count": 11,
   "id": "72d6780e-d943-4a3e-828f-2e5c6d01b880",
   "metadata": {},
   "outputs": [
    {
     "name": "stdout",
     "output_type": "stream",
     "text": [
      "{\n",
      "\"name\": \"نیما\",\n",
      "\"age\": 30,\n",
      "\"city\": \"تهران\"\n",
      "}\n"
     ]
    }
   ],
   "source": [
    "import json\n",
    "\n",
    "data = {\"name\": \"نیما\", \"age\": 30, \"city\": \"تهران\"}\n",
    "json_string = json.dumps(data, indent=0, sort_keys=False, ensure_ascii=False)\n",
    "print(json_string)"
   ]
  },
  {
   "cell_type": "code",
   "execution_count": 12,
   "id": "6cdcbb31-987c-42df-926f-b242c217532f",
   "metadata": {},
   "outputs": [
    {
     "name": "stdout",
     "output_type": "stream",
     "text": [
      "سلام\n"
     ]
    }
   ],
   "source": [
    "print(\"سلام\")"
   ]
  },
  {
   "cell_type": "markdown",
   "id": "f00681e6-6a93-494f-bce9-4a2304984717",
   "metadata": {},
   "source": [
    "2. Converting a JSON String to a Python Dictionary using json.loads\n",
    "To convert a JSON string back into a Python object (for example, a dictionary), use the json.loads() function:\n"
   ]
  },
  {
   "cell_type": "code",
   "execution_count": 13,
   "id": "8633e4b4-3d72-4b5d-9fb2-9611e6dafe90",
   "metadata": {},
   "outputs": [
    {
     "name": "stdout",
     "output_type": "stream",
     "text": [
      "{'name': 'نیما', 'age': 30, 'city': 'تهران'}\n"
     ]
    }
   ],
   "source": [
    "# Convert the JSON string back to a Python dictionary\n",
    "import json\n",
    "\n",
    "json_data = '{\"name\": \"نیما\", \"age\": 30, \"city\": \"تهران\"}'\n",
    "data = json.loads(json_data)\n",
    "print(data)\n",
    "\n",
    "\n",
    "#Here, json.loads() is used to turn a JSON string into a Python dictionary.\n"
   ]
  },
  {
   "cell_type": "markdown",
   "id": "5f5b840c-99f9-44d8-8348-a0f84c9efdc9",
   "metadata": {},
   "source": [
    "Section 3: Working with JSON Files\n",
    "1. Writing Data to a JSON File with json.dump\n",
    "To store data in a file using the JSON format, use json.dump(). The example below writes a dictionary to a file named data.json\n"
   ]
  },
  {
   "cell_type": "code",
   "execution_count": 7,
   "id": "cc273572-9533-45d4-adf3-0b411f6ae378",
   "metadata": {},
   "outputs": [
    {
     "data": {
      "text/plain": [
       "'\\n- ensure_ascii=False: Ensures that non-ASCII characters are properly saved.\\n- indent=4: Formats the output to be more human-readable.\\n'"
      ]
     },
     "execution_count": 7,
     "metadata": {},
     "output_type": "execute_result"
    }
   ],
   "source": [
    "# Write data to a JSON file\n",
    "import json\n",
    "\n",
    "data = {\"name\": \"نیما\", \"age\": 30, \"city\": \"تهران\"}\n",
    "\n",
    "# Open a file named 'data.json' in write mode with UTF-8 encoding\n",
    "with open(\"data.json\", \"w\", encoding=\"utf-8\") as f:\n",
    "    # Dump (write) the Python dictionary to the file in JSON format with pretty printing\n",
    "    # indent=4 adds indentation for readability, and ensure_ascii=False preserves non-ASCII characters\n",
    "    json.dump(data, f, indent=4, ensure_ascii=False)\n",
    "'''\n",
    "- ensure_ascii=False: Ensures that non-ASCII characters are properly saved.\n",
    "- indent=4: Formats the output to be more human-readable.\n",
    "'''\n"
   ]
  },
  {
   "cell_type": "markdown",
   "id": "ff6f5836-7872-4125-841f-d46101dc7428",
   "metadata": {},
   "source": [
    "2. Reading Data from a JSON File with json.load\n",
    "Reading data from a JSON file can be done using json.load(), as shown below:\n"
   ]
  },
  {
   "cell_type": "code",
   "execution_count": 8,
   "id": "5a39c5ad-91b3-41f9-b83d-fc94ef73f654",
   "metadata": {},
   "outputs": [
    {
     "name": "stdout",
     "output_type": "stream",
     "text": [
      "{'name': 'نیما', 'age': 30, 'city': 'تهران'}\n"
     ]
    },
    {
     "data": {
      "text/plain": [
       "'This reads the JSON data from the file and converts it back into Python data structures'"
      ]
     },
     "execution_count": 8,
     "metadata": {},
     "output_type": "execute_result"
    }
   ],
   "source": [
    "# Read data from a JSON file\n",
    "import json\n",
    "\n",
    "# Open the file 'data.json' in read mode with UTF-8 encoding\n",
    "with open(\"data.json\", \"r\", encoding=\"utf-8\") as f:\n",
    "    # Load (read) JSON data from the file and convert it to a Python dictionary\n",
    "    data = json.load(f)\n",
    "    print(data)\n",
    "'''This reads the JSON data from the file and converts it back into Python data structures'''"
   ]
  },
  {
   "cell_type": "markdown",
   "id": "00947037-fb25-4a8a-8822-6603aa3d4850",
   "metadata": {},
   "source": [
    "3.Working with Nested JSON Structures\n",
    "JSON data often contains nested objects and arrays. In this example, we load a JSON string with multiple layers, then access different elements within it\n"
   ]
  },
  {
   "cell_type": "code",
   "execution_count": 14,
   "id": "dcdbf7a0-f357-4570-a6ac-30db7bd5405c",
   "metadata": {},
   "outputs": [
    {
     "name": "stdout",
     "output_type": "stream",
     "text": [
      "User: Alice\n",
      "Age: 28\n",
      "Languages: English, Spanish\n",
      "Undergraduate Degree: Computer Science\n",
      "Graduate Degree: None\n"
     ]
    }
   ],
   "source": [
    "import json\n",
    "\n",
    "nested_json_str = '''\n",
    "{\n",
    "    \"user\": \"Alice\",\n",
    "    \"info\": {\n",
    "        \"age\": 28,\n",
    "        \"languages\": [\"English\", \"Spanish\"],\n",
    "        \"education\": {\n",
    "            \"undergrad\": \"Computer Science\",\n",
    "            \"grad\": null\n",
    "        }\n",
    "    },\n",
    "    \"verified\": true\n",
    "}\n",
    "'''\n",
    "\n",
    "# Parse the JSON string into a Python dictionary\n",
    "data = json.loads(nested_json_str)\n",
    "\n",
    "print(\"User:\", data[\"user\"])\n",
    "print(\"Age:\", data[\"info\"][\"age\"])\n",
    "print(\"Languages:\", \", \".join(data[\"info\"][\"languages\"]))\n",
    "print(\"Undergraduate Degree:\", data[\"info\"][\"education\"][\"undergrad\"])\n",
    "print(\"Graduate Degree:\", data[\"info\"][\"education\"][\"grad\"])"
   ]
  },
  {
   "cell_type": "markdown",
   "id": "d2803f17-e438-4f44-924d-4bb4d863f93b",
   "metadata": {},
   "source": [
    "Section 4: Advanced Topics\n",
    "Now that you’ve covered the basics, here are some advanced techniques that can help you work more effectively with JSON in Python:\n",
    "1. Custom Serialization for Complex Data Types\n",
    "Sometimes, you may need to serialize data types that are not supported out of the box—for example, Python's datetime objects. You can create a custom encoder to handle such cases:\n"
   ]
  },
  {
   "cell_type": "code",
   "execution_count": null,
   "id": "2c67c996-7859-49d8-adf0-8e0a4759f5b9",
   "metadata": {},
   "outputs": [],
   "source": [
    "import datetime\n",
    "\n",
    "class DateTimeEncoder(json.JSONEncoder):\n",
    "    def default(self, obj):\n",
    "        if isinstance(obj, datetime.datetime):\n",
    "            # Convert datetime to ISO 8601 format\n",
    "            return obj.isoformat()\n",
    "        return super().default(obj)\n",
    "\n",
    "# Example usage\n",
    "now = datetime.datetime.now()\n",
    "data_with_date = {\n",
    "    \"event\": \"Educational Session\",\n",
    "    \"time\": now\n",
    "}\n",
    "\n",
    "json_with_date = json.dumps(data_with_date, cls=DateTimeEncoder, ensure_ascii=False, indent=4)\n",
    "print(\"JSON with Date:\", json_with_date)\n",
    "'''In this example:\n",
    "- Nested objects (like \"info\" and \"education\") and arrays (\"languages\") are parsed correctly.\n",
    "- The use of null in JSON is mapped to Python’s None.\n",
    "'''"
   ]
  },
  {
   "cell_type": "markdown",
   "id": "deb79682-9ea0-45ff-b4bc-a31ee4d11e88",
   "metadata": {},
   "source": [
    "2. Custom Deserialization using object_hook\n",
    "When reading data back, you may want to automatically convert certain dictionaries into custom Python objects. Use the object_hook parameter with json.loads():\n"
   ]
  },
  {
   "cell_type": "code",
   "execution_count": null,
   "id": "bd18587f-8984-43fd-ae0e-9cf206b9a652",
   "metadata": {},
   "outputs": [],
   "source": [
    "def as_datetime(dct):\n",
    "    if 'time' in dct:\n",
    "        try:\n",
    "            # Convert ISO date string back to a datetime object\n",
    "            dct['time'] = datetime.datetime.fromisoformat(dct['time'])\n",
    "        except ValueError:\n",
    "            pass\n",
    "    return dct\n",
    "\n",
    "loaded_data = json.loads(json_with_date, object_hook=as_datetime)\n",
    "print(\"Data with Date Converted:\", loaded_data)"
   ]
  },
  {
   "cell_type": "markdown",
   "id": "63fccb93-5f27-4c41-98cd-81e7b7334f2a",
   "metadata": {
    "jupyter": {
     "source_hidden": true
    }
   },
   "source": [
    "3. Error Handling in JSON Processing\n",
    "When working with JSON data, you might encounter formatting issues. Handling these errors using try/except blocks is essential:\n"
   ]
  },
  {
   "cell_type": "code",
   "execution_count": null,
   "id": "22a1e865-d151-492e-9785-b704b0c96617",
   "metadata": {},
   "outputs": [],
   "source": [
    "try:\n",
    "    # Incorrect JSON string (extra comma at the end)\n",
    "    bad_json = '{\"name\": \"Nima\", \"age\": 25,}'\n",
    "    data_error = json.loads(bad_json)\n",
    "except json.JSONDecodeError as e:\n",
    "    print(\"JSON Decode Error:\", e)"
   ]
  },
  {
   "cell_type": "markdown",
   "id": "fa153c31-5efa-4ed1-8607-8cab541da947",
   "metadata": {},
   "source": [
    "4. Formatting Output with Advanced Options\n",
    "For more compact or specifically formatted JSON output, you can adjust parameters like separators and sort_keys:\n"
   ]
  },
  {
   "cell_type": "code",
   "execution_count": null,
   "id": "26293e0f-b5ae-475c-97d4-88c33d7455ba",
   "metadata": {},
   "outputs": [],
   "source": [
    "'''This example sorts the keys alphabetically \n",
    "and applies proper indentation for better readability.'''\n",
    "print(json.dumps(data, indent=4, sort_keys=True, ensure_ascii=False))"
   ]
  },
  {
   "cell_type": "markdown",
   "id": "f0f85629-1b93-47f3-b7df-cc73ac234d66",
   "metadata": {},
   "source": [
    "5. Handling Special Characters and Non-ASCII Data\n",
    "When your JSON data includes non-ASCII characters—such as Persian text—it’s important to use the proper encoding. In this snippet, we use the ensure_ascii=False option to preserve such characters:\n"
   ]
  },
  {
   "cell_type": "code",
   "execution_count": 15,
   "id": "4a09f55d-82a5-4d21-bbac-c79006631468",
   "metadata": {},
   "outputs": [
    {
     "name": "stdout",
     "output_type": "stream",
     "text": [
      "Non-ASCII JSON:\n",
      " {\n",
      "  \"greeting\": \"\\u0633\\u0644\\u0627\\u0645\",\n",
      "  \"farewell\": \"\\u062e\\u062f\\u0627\\u062d\\u0627\\u0641\\u0638\"\n",
      "}\n"
     ]
    }
   ],
   "source": [
    "data_nonascii = {\n",
    "    \"greeting\": \"سلام\",\n",
    "    \"farewell\": \"خداحافظ\"\n",
    "}\n",
    "\n",
    "# Convert the dictionary to a JSON string with proper encoding\n",
    "json_nonascii = json.dumps(data_nonascii, ensure_ascii=True, indent=2)\n",
    "print(\"Non-ASCII JSON:\\n\", json_nonascii)"
   ]
  },
  {
   "cell_type": "code",
   "execution_count": 14,
   "id": "c70be8d4-3881-4c82-8378-f49240e57f67",
   "metadata": {},
   "outputs": [
    {
     "name": "stdout",
     "output_type": "stream",
     "text": [
      "😀\n",
      "😀\n",
      "65\n"
     ]
    }
   ],
   "source": [
    "#printing an emoji with ascii code \n",
    "print(chr(0x1F600))\n",
    "print(\"\\U0001F600\")#unicode\n",
    "print(ord('A'))"
   ]
  },
  {
   "cell_type": "markdown",
   "id": "a1272bb0-11a6-4598-90af-32d712e369a9",
   "metadata": {},
   "source": [
    "6. Converting Python Lists and Basic Types to JSON\n",
    "JSON isn’t limited to dictionaries; you can also convert lists and other basic types:\n"
   ]
  },
  {
   "cell_type": "code",
   "execution_count": 16,
   "id": "6c173c4a-6048-4a24-9319-1a6b72e8fce4",
   "metadata": {},
   "outputs": [
    {
     "name": "stdout",
     "output_type": "stream",
     "text": [
      "JSON Array: [\"apple\", \"banana\", \"cherry\"]\n",
      "Basic JSON Data:\n",
      " {\n",
      "  \"count\": 10,\n",
      "  \"available\": false\n",
      "}\n"
     ]
    },
    {
     "data": {
      "text/plain": [
       "'\\nThese examples illustrate that the json.dumps() function seamlessly converts various Python types into their JSON representation.\\n'"
      ]
     },
     "execution_count": 16,
     "metadata": {},
     "output_type": "execute_result"
    }
   ],
   "source": [
    "# Example: Converting a Python list to a JSON array string\n",
    "fruits = [\"apple\", \"banana\", \"cherry\"]\n",
    "json_fruits = json.dumps(fruits)\n",
    "print(\"JSON Array:\", json_fruits)\n",
    "\n",
    "# Example: Converting a simple integer and boolean\n",
    "basic_values = {\"count\": 10, \"available\": False}\n",
    "json_basic = json.dumps(basic_values, indent=2)\n",
    "print(\"Basic JSON Data:\\n\", json_basic)\n",
    "'''\n",
    "These examples illustrate that the json.dumps() function seamlessly converts various Python types into their JSON representation.\n",
    "'''"
   ]
  },
  {
   "cell_type": "markdown",
   "id": "1b327416-bb0e-41e0-8ba9-8e8303023814",
   "metadata": {},
   "source": [
    "Additional Examples for Using the Python json Module\n",
    "1. Pretty-Printing and Sorting Keys\n",
    "For better readability or debugging, you might want to format your JSON strings with sorted keys and indentation. This example shows how:\n"
   ]
  },
  {
   "cell_type": "code",
   "execution_count": 18,
   "id": "8f7cbe44-046a-4573-8e51-780b040f31a3",
   "metadata": {},
   "outputs": [
    {
     "name": "stdout",
     "output_type": "stream",
     "text": [
      "Sorted JSON:\n",
      " {\n",
      "    \"z\": \"last\",\n",
      "    \"a\": \"first\",\n",
      "    \"m\": \"middle\"\n",
      "}\n"
     ]
    }
   ],
   "source": [
    "# A dictionary with unordered keys\n",
    "data_unsorted = {\"z\": \"last\", \"a\": \"first\", \"m\": \"middle\"}\n",
    "\n",
    "# Pretty-print with keys sorted alphabetically\n",
    "json_sorted = json.dumps(data_unsorted, sort_keys=False, indent=4, ensure_ascii=False)\n",
    "print(\"Sorted JSON:\\n\", json_sorted)"
   ]
  },
  {
   "cell_type": "markdown",
   "id": "ebfb64c8-35b4-43f6-9efd-141241c3471a",
   "metadata": {},
   "source": [
    "2. Creating Compact JSON Output\n",
    "Sometimes (for network transmission, storage, or logging), keeping the JSON output compact is preferred. The separators parameter can remove extra spaces:\n"
   ]
  },
  {
   "cell_type": "code",
   "execution_count": 19,
   "id": "0e5772ca-dd46-4be8-a40c-ceb7cc5eaf8a",
   "metadata": {},
   "outputs": [
    {
     "name": "stdout",
     "output_type": "stream",
     "text": [
      "Compact JSON: {\"id\":123,\"name\":\"Nima\",\"active\":true}\n"
     ]
    },
    {
     "data": {
      "text/plain": [
       "'This produces a lean JSON string that minimizes unnecessary characters.'"
      ]
     },
     "execution_count": 19,
     "metadata": {},
     "output_type": "execute_result"
    }
   ],
   "source": [
    "data_sample = {\"id\": 123, \"name\": \"Nima\", \"active\": True}\n",
    "\n",
    "# Generate compact JSON: no extra white spaces between items\n",
    "compact_json = json.dumps(data_sample, separators=(\",\", \":\"))\n",
    "print(\"Compact JSON:\", compact_json)\n",
    "'''This produces a lean JSON string that minimizes unnecessary characters.'''"
   ]
  },
  {
   "cell_type": "code",
   "execution_count": null,
   "id": "491ac431-69c3-4165-b211-ce47cae7f85b",
   "metadata": {},
   "outputs": [],
   "source": []
  }
 ],
 "metadata": {
  "kernelspec": {
   "display_name": "Python 3 (ipykernel)",
   "language": "python",
   "name": "python3"
  },
  "language_info": {
   "codemirror_mode": {
    "name": "ipython",
    "version": 3
   },
   "file_extension": ".py",
   "mimetype": "text/x-python",
   "name": "python",
   "nbconvert_exporter": "python",
   "pygments_lexer": "ipython3",
   "version": "3.12.4"
  }
 },
 "nbformat": 4,
 "nbformat_minor": 5
}
