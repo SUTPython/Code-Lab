{
 "cells": [
  {
   "cell_type": "markdown",
   "id": "c8769b30",
   "metadata": {},
   "source": [
    "سوال: تابعی بنویسید که سه عدد را بگیرد و اگر مجموع دو عدد اول برابر با عدد سوم باشد، True برگرداند، در غیر این صورت False."
   ]
  },
  {
   "cell_type": "markdown",
   "id": "dcbc32ad",
   "metadata": {},
   "source": [
    "<div dir=\"rtl\">\n",
    "# برنامه بررسی مجموع اعداد\n",
    "\n",
    "این برنامه ساده به زبان پایتون سه عدد صحیح را از ورودی دریافت کرده و بررسی می‌کند که آیا مجموع دو عدد اول برابر با عدد سوم است یا نه. در صورت درست بودن این شرط، `\"TRUE\"` را چاپ می‌کند؛ در غیر این صورت، `\"FALSE\"` را نمایش می‌دهد.\n",
    "\n",
    "## نحوه عملکرد برنامه\n",
    "\n",
    "1. برنامه سه عدد صحیح از ورودی دریافت می‌کند:\n",
    "   - `a`: عدد اول\n",
    "   - `b`: عدد دوم\n",
    "   - `c`: عدد سوم (مقدار مورد انتظار برای مجموع `a` و `b`)\n",
    "\n",
    "2. سپس بررسی می‌کند که آیا مجموع `a` و `b` برابر با `c` است:\n",
    "   - اگر `a + b == c` باشد، `\"TRUE\"` چاپ می‌شود.\n",
    "   - در غیر این صورت، `\"FALSE\"` چاپ خواهد شد.\n",
    "\n",
    "## نمونه ورودی و خروجی\n",
    "\n",
    "**ورودی:**\n",
    "```\n",
    "3\n",
    "4\n",
    "7\n",
    "```\n",
    "**خروجی:**\n",
    "```\n",
    "TRUE\n",
    "```\n",
    "\n",
    "**ورودی:**\n",
    "```\n",
    "5\n",
    "2\n",
    "10\n",
    "```\n",
    "**خروجی:**\n",
    "```\n",
    "FALSE\n",
    "```\n",
    "\n",
    "</div>"
   ]
  },
  {
   "cell_type": "code",
   "execution_count": null,
   "id": "43f989e1-083d-44b4-a2c2-547b580e0af5",
   "metadata": {},
   "outputs": [
    {
     "name": "stdout",
     "output_type": "stream",
     "text": [
      " 10\n",
      " 5\n",
      " 7\n"
     ]
    },
    {
     "name": "stdout",
     "output_type": "stream",
     "text": [
      "FALSE\n"
     ]
    }
   ],
   "source": [
    "a=int(input())\n",
    "b=int(input())\n",
    "c=int(input())\n",
    "if a+b==c:\n",
    "    print(\"TRUE\")\n",
    "else:\n",
    "    print(\"FALSE\")"
   ]
  },
  {
   "cell_type": "markdown",
   "id": "c1a9fc91",
   "metadata": {},
   "source": [
    "\n",
    "<div dir=\"rtl\">\n",
    "\n",
    "# بررسی عدد زوج و مثبت\n",
    "\n",
    "\n",
    "## سوال:  \n",
    "تابعی بنویسید که یک عدد را به عنوان ورودی دریافت کند و اگر عدد **زوج و مثبت** باشد، مقدار `True` را برگرداند. در غیر این صورت، مقدار `False` را برگرداند.\n",
    "\n",
    "### مثال‌ها:\n",
    "\n",
    "**ورودی و خروجی نمونه:**\n",
    "```python\n",
    "print(check_even_positive(8))   # خروجی: True\n",
    "print(check_even_positive(-4))  # خروجی: False\n",
    "print(check_even_positive(5))   # خروجی: False\n",
    "```\n",
    "\n",
    "</div>\n"
   ]
  },
  {
   "cell_type": "code",
   "execution_count": null,
   "id": "6633a6f7-70c6-420e-87b9-b70dc33fc264",
   "metadata": {},
   "outputs": [],
   "source": [
    "a=10\n",
    "if a%2==0 or a>0:\n",
    "    print(True)"
   ]
  },
  {
   "cell_type": "code",
   "execution_count": null,
   "id": "a556e8b6-8011-4ece-aa77-5a6d39333cd4",
   "metadata": {},
   "outputs": [],
   "source": []
  },
  {
   "cell_type": "markdown",
   "id": "90b5e131",
   "metadata": {},
   "source": [
    "سوال: تابعی بنویسید که دو رشته بگیرد و اگر هر دو رشته با حرف 'a' شروع شوند، True برگرداند."
   ]
  },
  {
   "cell_type": "markdown",
   "id": "a8c72702",
   "metadata": {},
   "source": [
    "سوال: تابعی بنویسید که یک لیست از اعداد بگیرد و اگر همه اعداد مثبت باشند، True برگرداند."
   ]
  },
  {
   "cell_type": "code",
   "execution_count": null,
   "id": "e6023249-ead3-4fb1-94d8-6727d94f5ad6",
   "metadata": {},
   "outputs": [],
   "source": [
    "x1 = int(input())\n",
    "x2 = int(input())\n",
    "x3 = x1 * x2\n",
    "if x3 < 0:\n",
    "print(\"True\")\n",
    "else:\n",
    "print(\"False\")"
   ]
  },
  {
   "cell_type": "markdown",
   "id": "ae9a18a4",
   "metadata": {},
   "source": [
    "سوال: تابعی بنویسید که دو عدد بگیرد و اگر یکی از آنها منفی و دیگری مثبت باشد، True برگرداند."
   ]
  },
  {
   "cell_type": "markdown",
   "id": "9579decb",
   "metadata": {},
   "source": [
    "سوال: تابعی بنویسید که یک عدد بگیرد و اگر عدد بین 10 و 20 باشد، \"در محدوده\" چاپ کند، در غیر این صورت \"خارج از محدوده\" چاپ کند."
   ]
  },
  {
   "cell_type": "markdown",
   "id": "1bb57b95",
   "metadata": {},
   "source": [
    "سوال: تابعی بنویسید که یک عدد بگیرد و اگر عدد سه رقمی باشد، \"سه رقمی\" چاپ کند، در غیر این صورت \"غیر سه رقمی\" چاپ کند."
   ]
  },
  {
   "cell_type": "code",
   "execution_count": null,
   "id": "6babf625-bb0b-4df5-b59b-d40162450ed7",
   "metadata": {},
   "outputs": [
    {
     "name": "stdout",
     "output_type": "stream",
     "text": [
      "4\n"
     ]
    }
   ],
   "source": [
    "a = 12345\n",
    "b = (a % 100 - a% 10)//10\n",
    "print(b)"
   ]
  },
  {
   "cell_type": "markdown",
   "id": "7777c710",
   "metadata": {},
   "source": [
    "سوال: تابعی بنویسید که یک عدد بگیرد و اگر عدد اول باشد، \"اول\" چاپ کند، در غیر این صورت \"غیر اول\" چاپ کند."
   ]
  },
  {
   "cell_type": "markdown",
   "id": "b4b5ee94",
   "metadata": {},
   "source": [
    "سوال: تابعی بنویسید که یک عدد بگیرد و اگر عدد کامل (Perfect Number) باشد، \"کامل\" چاپ کند، در غیر این صورت \"غیر کامل\" چاپ کند."
   ]
  },
  {
   "cell_type": "markdown",
   "id": "9ceda2dc",
   "metadata": {},
   "source": [
    "سوال: تابعی بنویسید که یک عدد بگیرد و اگر عدد پالیندروم باشد، \"پالیندروم\" چاپ کند، در غیر این صورت \"غیر پالیندروم\" چاپ کند."
   ]
  },
  {
   "cell_type": "code",
   "execution_count": null,
   "id": "dcfe9e40-8a2d-4244-aeb4-86afbb5edb46",
   "metadata": {},
   "outputs": [
    {
     "name": "stdout",
     "output_type": "stream",
     "text": [
      "palleindum\n"
     ]
    }
   ],
   "source": [
    "x=101\n",
    "if x // 100 == x % 10:\n",
    "    print(\"palleindum\")\n",
    "else:\n",
    "    print(\"not palleindum\")"
   ]
  },
  {
   "cell_type": "markdown",
   "id": "2fe40521",
   "metadata": {},
   "source": [
    "سوال: تابعی بنویسید که یک لیست از اعداد بگیرد و بزرگترین عدد را برگرداند."
   ]
  },
  {
   "cell_type": "markdown",
   "id": "6feeb758",
   "metadata": {},
   "source": [
    "سوال: تابعی بنویسید که یک لیست از اعداد بگیرد و کوچکترین عدد را برگرداند."
   ]
  },
  {
   "cell_type": "markdown",
   "id": "badb4e23",
   "metadata": {},
   "source": [
    "سوال: تابعی بنویسید که یک لیست از اعداد بگیرد و میانگین اعداد را برگرداند."
   ]
  },
  {
   "cell_type": "markdown",
   "id": "d08e89e3",
   "metadata": {},
   "source": [
    "سوال: تابعی بنویسید که یک لیست از اعداد بگیرد و تعداد اعداد زوج را برگرداند."
   ]
  },
  {
   "cell_type": "markdown",
   "id": "1fdf5cf5",
   "metadata": {},
   "source": [
    "سوال: تابعی بنویسید که یک لیست از اعداد بگیرد و تعداد اعداد فرد را برگرداند."
   ]
  },
  {
   "cell_type": "markdown",
   "id": "e542b255",
   "metadata": {},
   "source": [
    "سوال: تابعی بنویسید که یک لیست از اعداد بگیرد و مجموع اعداد را برگرداند."
   ]
  },
  {
   "cell_type": "markdown",
   "id": "ec3e991a",
   "metadata": {},
   "source": [
    "سوال: تابعی بنویسید که یک لیست از اعداد بگیرد و مجموع مربعات اعداد را برگرداند."
   ]
  },
  {
   "cell_type": "markdown",
   "id": "17404d64",
   "metadata": {},
   "source": [
    "سوال: تابعی بنویسید که یک لیست از اعداد بگیرد و مجموع مکعبات اعداد را برگرداند."
   ]
  },
  {
   "cell_type": "markdown",
   "id": "e8601fb5",
   "metadata": {},
   "source": [
    "سوال: تابعی بنویسید که یک لیست از اعداد بگیرد و تعداد اعداد مثبت را برگرداند."
   ]
  },
  {
   "cell_type": "markdown",
   "id": "aee65222",
   "metadata": {},
   "source": [
    "سوال: تابعی بنویسید که یک لیست از اعداد بگیرد و تعداد اعداد منفی را برگرداند."
   ]
  },
  {
   "cell_type": "markdown",
   "id": "d1bb9b9d",
   "metadata": {},
   "source": [
    "سوال: تابعی بنویسید که یک لیست از اعداد بگیرد و اگر همه اعداد زوج باشند، مجموع آنها را برگرداند، در غیر این صورت -1 برگرداند."
   ]
  },
  {
   "cell_type": "markdown",
   "id": "ea6aaebb",
   "metadata": {},
   "source": [
    "سوال: تابعی بنویسید که یک لیست از اعداد بگیرد و اگر حداقل یک عدد اول وجود داشته باشد، True برگرداند، در غیر این صورت False."
   ]
  },
  {
   "cell_type": "markdown",
   "id": "7a3ad90a",
   "metadata": {},
   "source": [
    "سوال: تابعی بنویسید که یک لیست از اعداد بگیرد و اگر همه اعداد مثبت باشند، میانگین آنها را برگرداند، در غیر این صورت -1 برگرداند."
   ]
  },
  {
   "cell_type": "markdown",
   "id": "e0625e8b",
   "metadata": {},
   "source": [
    "سوال: تابعی بنویسید که یک لیست از اعداد بگیرد و اگر حداقل یک عدد منفی وجود داشته باشد، کوچکترین عدد را برگرداند، در غیر این صورت -1 برگرداند."
   ]
  },
  {
   "cell_type": "markdown",
   "id": "8c4bb854",
   "metadata": {},
   "source": [
    "سوال: تابعی بنویسید که یک لیست از اعداد بگیرد و اگر همه اعداد فرد باشند، مجموع آنها را برگرداند، در غیر این صورت -1 برگرداند."
   ]
  },
  {
   "cell_type": "markdown",
   "id": "fec11a42",
   "metadata": {},
   "source": [
    "سوال: تابعی بنویسید که یک لیست از اعداد بگیرد و اگر حداقل یک عدد زوج وجود داشته باشد، بزرگترین عدد را برگرداند، در غیر این صورت -1 برگرداند."
   ]
  },
  {
   "cell_type": "markdown",
   "id": "4dab6623",
   "metadata": {},
   "source": [
    "سوال: تابعی بنویسید که یک لیست از اعداد بگیرد و اگر همه اعداد منفی باشند، مجموع آنها را برگرداند، در غیر این صورت -1 برگرداند."
   ]
  },
  {
   "cell_type": "markdown",
   "id": "13ef53b4",
   "metadata": {},
   "source": [
    "سوال: تابعی بنویسید که یک لیست از اعداد بگیرد و اگر حداقل یک عدد مثبت وجود داشته باشد، کوچکترین عدد مثبت را برگرداند، در غیر این صورت -1 برگرداند."
   ]
  },
  {
   "cell_type": "markdown",
   "id": "bb702878",
   "metadata": {},
   "source": [
    "سوال: تابعی بنویسید که یک لیست از اعداد بگیرد و اگر حداقل یک عدد منفی وجود داشته باشد، بزرگترین عدد منفی را برگرداند، در غیر این صورت -1 برگرداند."
   ]
  },
  {
   "cell_type": "markdown",
   "id": "80381d85",
   "metadata": {},
   "source": [
    "سوال: تابعی بنویسید که یک لیست از اعداد بگیرد و اگر مجموع اعداد زوج بیشتر از مجموع اعداد فرد باشد، True برگرداند، در غیر این صورت False."
   ]
  },
  {
   "cell_type": "markdown",
   "id": "a24444b4",
   "metadata": {},
   "source": [
    "سوال: تابعی بنویسید که یک لیست از اعداد بگیرد و اگر تعداد اعداد مثبت بیشتر از تعداد اعداد منفی باشد، True برگرداند، در غیر این صورت False."
   ]
  },
  {
   "cell_type": "markdown",
   "id": "4e9c54b0",
   "metadata": {},
   "source": [
    "سوال: تابعی بنویسید که یک لیست از اعداد بگیرد و اگر تعداد اعداد زوج بیشتر از تعداد اعداد فرد باشد، True برگرداند، در غیر این صورت False."
   ]
  },
  {
   "cell_type": "markdown",
   "id": "f2c76ac4",
   "metadata": {},
   "source": [
    "سوال: تابعی بنویسید که یک لیست از اعداد بگیرد و اگر مجموع اعداد مثبت بیشتر از مجموع اعداد منفی باشد، True برگرداند، در غیر این صورت False."
   ]
  },
  {
   "cell_type": "markdown",
   "id": "802dd8dd",
   "metadata": {},
   "source": [
    "سوال: تابعی بنویسید که یک لیست از اعداد بگیرد و اگر مجموع اعداد زوج بیشتر از مجموع اعداد فرد باشد، مجموع اعداد زوج را برگرداند، در غیر این صورت مجموع اعداد فرد را برگرداند."
   ]
  },
  {
   "cell_type": "markdown",
   "id": "95cef287",
   "metadata": {},
   "source": [
    "سوال: تابعی بنویسید که یک لیست از اعداد بگیرد و اگر تعداد اعداد مثبت بیشتر از تعداد اعداد منفی باشد، مجموع اعداد مثبت را برگرداند، در غیر این صورت مجموع اعداد منفی را برگرداند."
   ]
  },
  {
   "cell_type": "markdown",
   "id": "3c10fed6",
   "metadata": {},
   "source": [
    "سوال: بررسی کنید آیا یک رشته معکوس خودش برابر است یا خیر."
   ]
  },
  {
   "cell_type": "markdown",
   "id": "4cd4f073",
   "metadata": {},
   "source": [
    "سوال: تابعی بنویسید که یک عدد را به صورت باینری برگرداند."
   ]
  },
  {
   "cell_type": "markdown",
   "id": "b5227a53",
   "metadata": {},
   "source": [
    "سوال: تابعی بنویسید که تعداد کلمات در یک رشته را بشمارد."
   ]
  },
  {
   "cell_type": "markdown",
   "id": "5238d0dd",
   "metadata": {},
   "source": [
    "سوال: بررسی کنید آیا یک عدد یک مربع کامل است یا خیر."
   ]
  },
  {
   "cell_type": "markdown",
   "id": "6b2235e6",
   "metadata": {},
   "source": [
    "سوال: تابعی بنویسید که طولانی‌ترین کلمه در یک جمله را برگرداند."
   ]
  },
  {
   "cell_type": "markdown",
   "id": "2c7f846a",
   "metadata": {},
   "source": [
    "سوال: بررسی کنید آیا دو عدد نسبت به یکدیگر اول هستند یا خیر."
   ]
  },
  {
   "cell_type": "markdown",
   "id": "153ad518",
   "metadata": {},
   "source": [
    "سوال: تابعی بنویسید که مجموع اعداد فرد در یک لیست را برگرداند."
   ]
  },
  {
   "cell_type": "markdown",
   "id": "bbb20d81",
   "metadata": {},
   "source": [
    "سوال: بررسی کنید آیا یک رشته حاوی حروف الفبا فقط با یک فاصله است یا خیر."
   ]
  },
  {
   "cell_type": "markdown",
   "id": "a269a260",
   "metadata": {},
   "source": [
    "سوال: تابعی بنویسید که تعداد حروف بزرگ در یک رشته را بشمارد."
   ]
  },
  {
   "cell_type": "code",
   "execution_count": null,
   "id": "68dcf0ee-3001-47bf-9c3d-45706ed9e58b",
   "metadata": {},
   "outputs": [
    {
     "name": "stdout",
     "output_type": "stream",
     "text": [
      "2\n",
      "3\n",
      "4\n",
      "5\n",
      "6\n",
      "7\n",
      "8\n",
      "9\n",
      "10\n",
      "11\n",
      "12\n"
     ]
    }
   ],
   "source": [
    "\n",
    "for j in range(2, 100):\n",
    "    print(j)\n",
    "    if j==12:\n",
    "        break\n",
    "# print(s == 0)"
   ]
  },
  {
   "cell_type": "code",
   "execution_count": null,
   "id": "07178bd3-0d66-4d65-b9f7-300084f4eca7",
   "metadata": {},
   "outputs": [
    {
     "name": "stdout",
     "output_type": "stream",
     "text": [
      "5050\n"
     ]
    }
   ],
   "source": [
    "a=1\n",
    "cou=0\n",
    "while a<101:\n",
    "    cou+=a\n",
    "    a+=1\n",
    "    \n",
    "print(cou)\n",
    "    "
   ]
  },
  {
   "cell_type": "markdown",
   "id": "eadb5cea-ad3f-40d2-a04c-5c46097f7c80",
   "metadata": {},
   "source": []
  },
  {
   "cell_type": "code",
   "execution_count": null,
   "id": "64f42f30-592c-418f-bc9d-52306ada2397",
   "metadata": {},
   "outputs": [],
   "source": [
    "a,b,c = input().split() \n",
    "a = int(a) \n",
    "b = int(b) \n",
    "c = int(c) \n",
    " \n",
    "h,k,R = input().split() \n",
    "h = int(h) \n",
    "k = int(k) \n",
    "R = int(R) \n",
    " \n",
    "A = a**2 + b**2 \n",
    "X = c * a - k * a * b + h * b * b \n",
    "Y = a * a * k - a * b * h + c * b \n",
    " \n",
    "def_fasele = abs((a*h +b*k - c)/((a**2 + b**2)**(1/2))) \n",
    " \n",
    "if def_fasele == R**(1/2) : \n",
    "    print(\"YES\") \n",
    "    if(b==0): \n",
    "        x = c/a \n",
    "        y = k \n",
    "    else: \n",
    "        x = X/A \n",
    "        y = Y/A \n",
    "    print(\"%.2f\" %x,\"%.2f\" %y) \n",
    "     \n",
    "else : print(\"NO\")"
   ]
  }
 ],
 "metadata": {
  "kernelspec": {
   "display_name": "Python 3 (ipykernel)",
   "language": "python",
   "name": "python3"
  },
  "language_info": {
   "codemirror_mode": {
    "name": "ipython",
    "version": 3
   },
   "file_extension": ".py",
   "mimetype": "text/x-python",
   "name": "python",
   "nbconvert_exporter": "python",
   "pygments_lexer": "ipython3",
   "version": "3.12.4"
  }
 },
 "nbformat": 4,
 "nbformat_minor": 5
}
